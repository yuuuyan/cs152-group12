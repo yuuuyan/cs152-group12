{
 "cells": [
  {
   "cell_type": "code",
   "execution_count": 11,
   "metadata": {},
   "outputs": [],
   "source": [
    "import os\n",
    "import json\n",
    "import logging\n",
    "import re\n",
    "from report import Report\n",
    "import pdb\n",
    "from collections import defaultdict\n",
    "from dataclasses import dataclass\n",
    "from typing import Optional\n",
    "import vertexai\n",
    "from vertexai.generative_models import GenerativeModel\n",
    "from together import Together\n",
    "import csv\n",
    "\n",
    "TOGETHER_AI_API_KEY = \"368f91cfda9ddef7e1c17a401e54ac7aa16a70900935627505e5beeee1b66c5c\"\n",
    "GCP_PROJECT_ID = \"fluent-sprite-424817-q5\"\n",
    "\n",
    "fake_fn = \"Datasets/DataSet_Misinfo_FAKE.csv\"\n",
    "true_fn = \"Datasets/DataSet_Misinfo_TRUE.csv\"\n",
    "prompt_fn = \"LLM_prompt2.txt\"\n",
    "\n",
    "with open(prompt_fn, 'r', encoding='utf-8') as file:\n",
    "    prompt = file.read()"
   ]
  },
  {
   "cell_type": "code",
   "execution_count": 12,
   "metadata": {},
   "outputs": [],
   "source": [
    "def query_together_ai(model: str, text: str) -> dict:\n",
    "        client = Together(api_key=TOGETHER_AI_API_KEY)\n",
    "\n",
    "        response = client.chat.completions.create(\n",
    "            model=model,\n",
    "            messages=[{\"role\": \"user\", \"content\": text}]\n",
    "        )\n",
    "\n",
    "        return response.choices[0].message.content\n",
    "\n",
    "\n",
    "def query_gcp(text: str) -> dict:\n",
    "    vertexai.init(project=GCP_PROJECT_ID, location=\"us-central1\")\n",
    "    model = GenerativeModel(model_name=\"gemini-1.0-pro-002\")\n",
    "\n",
    "    response = model.generate_content(\n",
    "        text\n",
    "    )\n",
    "\n",
    "    return response.text"
   ]
  },
  {
   "cell_type": "code",
   "execution_count": 13,
   "metadata": {},
   "outputs": [],
   "source": [
    "c70B_fake = 0\n",
    "c8B_fake = 0\n",
    "gcp_fake = 0\n",
    "tot = 0\n",
    "\n",
    "with open(fake_fn, newline='', encoding='utf-8') as csvfile:\n",
    "    csvreader= csv.reader(csvfile, delimiter=',')\n",
    "\n",
    "    # skip header\n",
    "    next(csvreader)\n",
    "\n",
    "    for row in csvreader:\n",
    "        message = row[1]\n",
    "        model_input = prompt+message\n",
    "\n",
    "        if len(model_input.split()) > 2500:\n",
    "            print(\"yes\")\n",
    "            continue\n",
    "        try:\n",
    "            response_70B = query_together_ai(\"meta-llama/Llama-3-70b-chat-hf\", model_input)\n",
    "            response_8B = query_together_ai(\"meta-llama/Llama-3-8b-chat-hf\", model_input)\n",
    "            response_gcp = query_gcp(model_input)\n",
    "\n",
    "\n",
    "            if \"misinformation: yes\" in response_70B.lower():\n",
    "                c70B_fake += 1\n",
    "            if \"misinformation: yes\" in response_8B.lower():\n",
    "                c8B_fake += 1\n",
    "            if \"misinformation: yes\" in response_gcp.lower():\n",
    "                gcp_fake += 1\n",
    "            \n",
    "            tot += 1\n",
    "\n",
    "            if tot > 200:\n",
    "                break\n",
    "        except:\n",
    "            continue\n",
    "        \n",
    "        "
   ]
  },
  {
   "cell_type": "code",
   "execution_count": 14,
   "metadata": {},
   "outputs": [
    {
     "name": "stdout",
     "output_type": "stream",
     "text": [
      "201\n",
      "8\n",
      "49\n",
      "130\n"
     ]
    }
   ],
   "source": [
    "print(tot)\n",
    "print(c70B_fake)\n",
    "print(c8B_fake)\n",
    "print(gcp_fake)"
   ]
  },
  {
   "cell_type": "code",
   "execution_count": 15,
   "metadata": {},
   "outputs": [],
   "source": [
    "c70B_true = 0\n",
    "c8B_true = 0\n",
    "gcp_true = 0\n",
    "tot = 0\n",
    "\n",
    "with open(true_fn, newline='', encoding='utf-8') as csvfile:\n",
    "    csvreader= csv.reader(csvfile, delimiter=',')\n",
    "\n",
    "    # skip header\n",
    "    next(csvreader)\n",
    "\n",
    "    for row in csvreader:\n",
    "        message = row[1]\n",
    "        model_input = prompt+message\n",
    "\n",
    "        if len(model_input.split()) > 2500:\n",
    "            print(\"yes\")\n",
    "            continue\n",
    "        try:\n",
    "            response_70B = query_together_ai(\"meta-llama/Llama-3-70b-chat-hf\", model_input)\n",
    "            response_8B = query_together_ai(\"meta-llama/Llama-3-8b-chat-hf\", model_input)\n",
    "            response_gcp = query_gcp(model_input)\n",
    "\n",
    "\n",
    "            if \"misinformation: no\" in response_70B.lower():\n",
    "                c70B_true += 1\n",
    "            if \"misinformation: no\" in response_8B.lower():\n",
    "                c8B_true += 1\n",
    "            if \"misinformation: no\" in response_gcp.lower():\n",
    "                gcp_true += 1\n",
    "            \n",
    "            tot += 1\n",
    "\n",
    "            if tot > 200:\n",
    "                break\n",
    "        except:\n",
    "            continue"
   ]
  },
  {
   "cell_type": "code",
   "execution_count": 16,
   "metadata": {},
   "outputs": [
    {
     "name": "stdout",
     "output_type": "stream",
     "text": [
      "201\n",
      "195\n",
      "58\n",
      "139\n"
     ]
    }
   ],
   "source": [
    "print(tot)\n",
    "print(c70B_true)\n",
    "print(c8B_true)\n",
    "print(gcp_true)"
   ]
  },
  {
   "cell_type": "code",
   "execution_count": null,
   "metadata": {},
   "outputs": [],
   "source": []
  }
 ],
 "metadata": {
  "kernelspec": {
   "display_name": "cs224n",
   "language": "python",
   "name": "python3"
  },
  "language_info": {
   "codemirror_mode": {
    "name": "ipython",
    "version": 3
   },
   "file_extension": ".py",
   "mimetype": "text/x-python",
   "name": "python",
   "nbconvert_exporter": "python",
   "pygments_lexer": "ipython3",
   "version": "3.11.7"
  }
 },
 "nbformat": 4,
 "nbformat_minor": 2
}
